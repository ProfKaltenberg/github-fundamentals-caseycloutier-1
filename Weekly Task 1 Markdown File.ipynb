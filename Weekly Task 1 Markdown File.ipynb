{
 "cells": [
  {
   "cell_type": "markdown",
   "id": "9c32fc63",
   "metadata": {},
   "source": [
    "# Weekly task 1: Markdown File"
   ]
  },
  {
   "cell_type": "markdown",
   "id": "67932783",
   "metadata": {},
   "source": [
    "## What I'm confused about:"
   ]
  },
  {
   "cell_type": "markdown",
   "id": "bd396b0c",
   "metadata": {},
   "source": [
    "- I had some trouble making the pull request. I got instructions from the github help section and it makes sense now. "
   ]
  },
  {
   "cell_type": "markdown",
   "id": "db8f9a7e",
   "metadata": {},
   "source": [
    "- I'm not exactly sure about how github desktop works still. My \"github fundamentals\" repository does not show up on github desktop. "
   ]
  },
  {
   "cell_type": "markdown",
   "id": "bc3789f1",
   "metadata": {},
   "source": [
    "- I was able to use the online version of github fine but am going to continue trying to figure out github desktop before next wednesday. "
   ]
  },
  {
   "cell_type": "markdown",
   "id": "01e60ef4",
   "metadata": {},
   "source": [
    "![alt text](https://media2.giphy.com/media/143Mz6CBcboctq/200.gif)"
   ]
  },
  {
   "cell_type": "code",
   "execution_count": null,
   "id": "35f37b60",
   "metadata": {},
   "outputs": [],
   "source": []
  }
 ],
 "metadata": {
  "kernelspec": {
   "display_name": "Python 3",
   "language": "python",
   "name": "python3"
  },
  "language_info": {
   "codemirror_mode": {
    "name": "ipython",
    "version": 3
   },
   "file_extension": ".py",
   "mimetype": "text/x-python",
   "name": "python",
   "nbconvert_exporter": "python",
   "pygments_lexer": "ipython3",
   "version": "3.8.8"
  }
 },
 "nbformat": 4,
 "nbformat_minor": 5
}
